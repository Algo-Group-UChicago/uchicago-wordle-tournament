{
 "cells": [
  {
   "cell_type": "code",
   "execution_count": 1,
   "id": "a3bfc0f1",
   "metadata": {},
   "outputs": [
    {
     "name": "stdout",
     "output_type": "stream",
     "text": [
      "H E L L O\n",
      "🟩 🟨 ⬜ ⬜ ⬜\n"
     ]
    }
   ],
   "source": [
    "from hint import WordleHint, HINT_TYPE\n",
    "\n",
    "h = WordleHint(\"hello\", [HINT_TYPE.CORRECT, HINT_TYPE.PRESENT, HINT_TYPE.ABSENT, HINT_TYPE.ABSENT, HINT_TYPE.ABSENT])\n",
    "h.visualize_hint()"
   ]
  }
 ],
 "metadata": {
  "kernelspec": {
   "display_name": ".venv",
   "language": "python",
   "name": "python3"
  },
  "language_info": {
   "codemirror_mode": {
    "name": "ipython",
    "version": 3
   },
   "file_extension": ".py",
   "mimetype": "text/x-python",
   "name": "python",
   "nbconvert_exporter": "python",
   "pygments_lexer": "ipython3",
   "version": "3.10.18"
  }
 },
 "nbformat": 4,
 "nbformat_minor": 5
}
