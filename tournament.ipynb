{
 "cells": [
  {
   "cell_type": "code",
   "execution_count": null,
   "id": "88bbf50a",
   "metadata": {},
   "outputs": [],
   "source": [
    "TEAM_NAME = \"stupid_bot\"\n",
    "UC_ID = \"kmeyyappan\""
   ]
  },
  {
   "cell_type": "code",
   "execution_count": null,
   "id": "ca79e995",
   "metadata": {},
   "outputs": [],
   "source": [
    "# NOTE: uchicago_wordle_tournament should be a installable python library\n",
    "from uchicago_wordle_tournament import UChicagoWordleBotBase, WordleHint\n",
    "\n",
    "class WordleBot(UChicagoWordleBotBase):\n",
    "\n",
    "    def __init__(self, team_name: str, uc_id: str):\n",
    "        super().__init__(team_name, uc_id)\n",
    "\n",
    "    def guess(self, hints: list[WordleHint]) -> str:\n",
    "        \"\"\"Return a 5 letter word that you think is the target word given a list of previous \n",
    "        guesses/results (see WordleHint type for details).\n",
    "\n",
    "        Guesses should be valid 5 letter words. Invalid strings will be ignored by our\n",
    "        evaluation, but will still count towards the number of guesses you make.\n",
    "\n",
    "        Example: \n",
    "            # gotta think of idiomatic way to show an example\n",
    "        \"\"\"\n",
    "        # TODO: you implement this!\n",
    "\n",
    "        return \"stack\""
   ]
  },
  {
   "cell_type": "markdown",
   "id": "d6a0efdf",
   "metadata": {},
   "source": [
    "## Testing\n",
    "The block below will test your bot's strategy on an example word and return how many guesses it took (capped to avoid infinite loop)."
   ]
  },
  {
   "cell_type": "code",
   "execution_count": null,
   "id": "ed021a64",
   "metadata": {},
   "outputs": [],
   "source": [
    "test_bot = WordleBot(TEAM_NAME, UC_ID)\n",
    "\n",
    "test_bot.run_on_word(\"windy\") # NOTE: returns an int or a timeout msg "
   ]
  },
  {
   "cell_type": "markdown",
   "id": "0356204b",
   "metadata": {},
   "source": [
    "## Submission\n",
    "Running the block below will submit the bot to our server for evaluation. Score is calculated as the average number of guesses it takes the bot to correctly guess the word (capped at 20)."
   ]
  },
  {
   "cell_type": "code",
   "execution_count": null,
   "id": "bc954151",
   "metadata": {},
   "outputs": [],
   "source": [
    "submission_bot = WordleBot(TEAM_NAME, UC_ID)\n",
    "\n",
    "# This will take some time to run, and will hit our servers + put you on the leaderboard.\n",
    "# Re-running will replace your old submission.\n",
    "# DO NOT RUN THIS unless you're ready to submit to the leaderboard.\n",
    "submission_bot.evaluate() # NOTE: let's print logs as this runs"
   ]
  }
 ],
 "cells": [],
 "metadata": {
  "kernelspec": {
   "display_name": "Python 3",
   "language": "python",
   "name": "python3"
  },
  "language_info": {
   "name": "python",
   "version": "3.14.0"
  }
 },
 "nbformat": 4,
 "nbformat_minor": 5
}
